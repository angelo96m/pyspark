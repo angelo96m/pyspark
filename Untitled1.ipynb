{
 "cells": [
  {
   "cell_type": "code",
   "execution_count": 1,
   "metadata": {},
   "outputs": [],
   "source": [
    "import findspark \n",
    "findspark.init() "
   ]
  },
  {
   "cell_type": "code",
   "execution_count": 3,
   "metadata": {},
   "outputs": [],
   "source": [
    "from pyspark.sql import SparkSession\n",
    "spark = SparkSession.builder \\\n",
    "    .appName(\"PySparkTmp\") \\\n",
    "    .getOrCreate() "
   ]
  },
  {
   "cell_type": "code",
   "execution_count": 4,
   "metadata": {},
   "outputs": [
    {
     "data": {
      "text/html": [
       "\n",
       "            <div>\n",
       "                <p><b>SparkSession - in-memory</b></p>\n",
       "                \n",
       "        <div>\n",
       "            <p><b>SparkContext</b></p>\n",
       "\n",
       "            <p><a href=\"http://vmi455856.contaboserver.net:4043\">Spark UI</a></p>\n",
       "\n",
       "            <dl>\n",
       "              <dt>Version</dt>\n",
       "                <dd><code>v2.4.7</code></dd>\n",
       "              <dt>Master</dt>\n",
       "                <dd><code>local[*]</code></dd>\n",
       "              <dt>AppName</dt>\n",
       "                <dd><code>PySparkTmp</code></dd>\n",
       "            </dl>\n",
       "        </div>\n",
       "        \n",
       "            </div>\n",
       "        "
      ],
      "text/plain": [
       "<pyspark.sql.session.SparkSession at 0x7f45408aeb70>"
      ]
     },
     "execution_count": 4,
     "metadata": {},
     "output_type": "execute_result"
    }
   ],
   "source": [
    "spark #local[*] con * significa che utilizza tutti i core della macchina locale. "
   ]
  },
  {
   "cell_type": "code",
   "execution_count": 5,
   "metadata": {},
   "outputs": [],
   "source": [
    "tabella = spark.read.csv(\"./convertcsv.csv\")"
   ]
  },
  {
   "cell_type": "code",
   "execution_count": 6,
   "metadata": {},
   "outputs": [
    {
     "ename": "AttributeError",
     "evalue": "'DataFrame' object has no attribute 'header'",
     "output_type": "error",
     "traceback": [
      "\u001b[0;31m---------------------------------------------------------------------------\u001b[0m",
      "\u001b[0;31mAttributeError\u001b[0m                            Traceback (most recent call last)",
      "\u001b[0;32m<ipython-input-6-c7e28d993333>\u001b[0m in \u001b[0;36m<module>\u001b[0;34m\u001b[0m\n\u001b[0;32m----> 1\u001b[0;31m \u001b[0mtabella\u001b[0m\u001b[0;34m.\u001b[0m\u001b[0mheader\u001b[0m\u001b[0;34m(\u001b[0m\u001b[0;34m)\u001b[0m\u001b[0;34m\u001b[0m\u001b[0;34m\u001b[0m\u001b[0m\n\u001b[0m",
      "\u001b[0;32m/opt/spark/python/pyspark/sql/dataframe.py\u001b[0m in \u001b[0;36m__getattr__\u001b[0;34m(self, name)\u001b[0m\n\u001b[1;32m   1303\u001b[0m         \u001b[0;32mif\u001b[0m \u001b[0mname\u001b[0m \u001b[0;32mnot\u001b[0m \u001b[0;32min\u001b[0m \u001b[0mself\u001b[0m\u001b[0;34m.\u001b[0m\u001b[0mcolumns\u001b[0m\u001b[0;34m:\u001b[0m\u001b[0;34m\u001b[0m\u001b[0;34m\u001b[0m\u001b[0m\n\u001b[1;32m   1304\u001b[0m             raise AttributeError(\n\u001b[0;32m-> 1305\u001b[0;31m                 \"'%s' object has no attribute '%s'\" % (self.__class__.__name__, name))\n\u001b[0m\u001b[1;32m   1306\u001b[0m         \u001b[0mjc\u001b[0m \u001b[0;34m=\u001b[0m \u001b[0mself\u001b[0m\u001b[0;34m.\u001b[0m\u001b[0m_jdf\u001b[0m\u001b[0;34m.\u001b[0m\u001b[0mapply\u001b[0m\u001b[0;34m(\u001b[0m\u001b[0mname\u001b[0m\u001b[0;34m)\u001b[0m\u001b[0;34m\u001b[0m\u001b[0;34m\u001b[0m\u001b[0m\n\u001b[1;32m   1307\u001b[0m         \u001b[0;32mreturn\u001b[0m \u001b[0mColumn\u001b[0m\u001b[0;34m(\u001b[0m\u001b[0mjc\u001b[0m\u001b[0;34m)\u001b[0m\u001b[0;34m\u001b[0m\u001b[0;34m\u001b[0m\u001b[0m\n",
      "\u001b[0;31mAttributeError\u001b[0m: 'DataFrame' object has no attribute 'header'"
     ]
    }
   ],
   "source": [
    "tabella.header()"
   ]
  },
  {
   "cell_type": "code",
   "execution_count": 7,
   "metadata": {},
   "outputs": [
    {
     "name": "stdout",
     "output_type": "stream",
     "text": [
      "root\n",
      " |-- _c0: string (nullable = true)\n",
      " |-- _c1: string (nullable = true)\n",
      " |-- _c2: string (nullable = true)\n",
      "\n"
     ]
    }
   ],
   "source": [
    "tabella.printSchema() "
   ]
  },
  {
   "cell_type": "code",
   "execution_count": 8,
   "metadata": {},
   "outputs": [
    {
     "ename": "TypeError",
     "evalue": "'StructType' object is not callable",
     "output_type": "error",
     "traceback": [
      "\u001b[0;31m---------------------------------------------------------------------------\u001b[0m",
      "\u001b[0;31mTypeError\u001b[0m                                 Traceback (most recent call last)",
      "\u001b[0;32m<ipython-input-8-e5bbca1c7094>\u001b[0m in \u001b[0;36m<module>\u001b[0;34m\u001b[0m\n\u001b[0;32m----> 1\u001b[0;31m \u001b[0mtabella\u001b[0m\u001b[0;34m.\u001b[0m\u001b[0mschema\u001b[0m\u001b[0;34m(\u001b[0m\u001b[0;34m)\u001b[0m\u001b[0;34m\u001b[0m\u001b[0;34m\u001b[0m\u001b[0m\n\u001b[0m",
      "\u001b[0;31mTypeError\u001b[0m: 'StructType' object is not callable"
     ]
    }
   ],
   "source": [
    "tabella.schema("
   ]
  },
  {
   "cell_type": "code",
   "execution_count": 9,
   "metadata": {},
   "outputs": [
    {
     "data": {
      "text/plain": [
       "StructType(List(StructField(_c0,StringType,true),StructField(_c1,StringType,true),StructField(_c2,StringType,true)))"
      ]
     },
     "execution_count": 9,
     "metadata": {},
     "output_type": "execute_result"
    }
   ],
   "source": [
    "tabella.schema"
   ]
  },
  {
   "cell_type": "code",
   "execution_count": 10,
   "metadata": {},
   "outputs": [
    {
     "name": "stdout",
     "output_type": "stream",
     "text": [
      "+----------+----------+----------+\n",
      "|       _c0|       _c1|       _c2|\n",
      "+----------+----------+----------+\n",
      "|      time|department|items_sold|\n",
      "|2116/12/04|        NU|       875|\n",
      "|2120/02/28|        SK|       231|\n",
      "|2072/05/30|        NL|       855|\n",
      "|2056/03/29|        NT|       758|\n",
      "|2112/12/19|        NT|       101|\n",
      "|2075/11/07|        NL|       682|\n",
      "|2097/01/26|        NB|       923|\n",
      "|2053/12/25|        NU|       935|\n",
      "|2087/05/01|        NL|       535|\n",
      "|2115/11/03|        QC|       768|\n",
      "|2051/11/20|        NL|       357|\n",
      "|2052/01/01|        BC|       422|\n",
      "|2040/04/18|        NL|       669|\n",
      "|2042/07/23|        NS|       523|\n",
      "|2045/08/30|        BC|       163|\n",
      "|2085/08/16|        NT|       526|\n",
      "|2058/10/26|        SK|       282|\n",
      "|2078/02/07|        NT|       475|\n",
      "|2030/01/21|        NT|       677|\n",
      "+----------+----------+----------+\n",
      "only showing top 20 rows\n",
      "\n"
     ]
    }
   ],
   "source": [
    "tabella.show()"
   ]
  },
  {
   "cell_type": "code",
   "execution_count": 11,
   "metadata": {},
   "outputs": [],
   "source": [
    "tabella = spark.read.csv(\"./convertcsv.csv\", header=True)"
   ]
  },
  {
   "cell_type": "code",
   "execution_count": 12,
   "metadata": {},
   "outputs": [
    {
     "name": "stdout",
     "output_type": "stream",
     "text": [
      "+----------+----------+----------+\n",
      "|      time|department|items_sold|\n",
      "+----------+----------+----------+\n",
      "|2116/12/04|        NU|       875|\n",
      "|2120/02/28|        SK|       231|\n",
      "|2072/05/30|        NL|       855|\n",
      "|2056/03/29|        NT|       758|\n",
      "|2112/12/19|        NT|       101|\n",
      "|2075/11/07|        NL|       682|\n",
      "|2097/01/26|        NB|       923|\n",
      "|2053/12/25|        NU|       935|\n",
      "|2087/05/01|        NL|       535|\n",
      "|2115/11/03|        QC|       768|\n",
      "|2051/11/20|        NL|       357|\n",
      "|2052/01/01|        BC|       422|\n",
      "|2040/04/18|        NL|       669|\n",
      "|2042/07/23|        NS|       523|\n",
      "|2045/08/30|        BC|       163|\n",
      "|2085/08/16|        NT|       526|\n",
      "|2058/10/26|        SK|       282|\n",
      "|2078/02/07|        NT|       475|\n",
      "|2030/01/21|        NT|       677|\n",
      "|2035/05/20|        NT|       923|\n",
      "+----------+----------+----------+\n",
      "only showing top 20 rows\n",
      "\n"
     ]
    }
   ],
   "source": [
    "tabella.show()"
   ]
  },
  {
   "cell_type": "code",
   "execution_count": 13,
   "metadata": {},
   "outputs": [
    {
     "ename": "TypeError",
     "evalue": "'StructType' object is not callable",
     "output_type": "error",
     "traceback": [
      "\u001b[0;31m---------------------------------------------------------------------------\u001b[0m",
      "\u001b[0;31mTypeError\u001b[0m                                 Traceback (most recent call last)",
      "\u001b[0;32m<ipython-input-13-e5bbca1c7094>\u001b[0m in \u001b[0;36m<module>\u001b[0;34m\u001b[0m\n\u001b[0;32m----> 1\u001b[0;31m \u001b[0mtabella\u001b[0m\u001b[0;34m.\u001b[0m\u001b[0mschema\u001b[0m\u001b[0;34m(\u001b[0m\u001b[0;34m)\u001b[0m\u001b[0;34m\u001b[0m\u001b[0;34m\u001b[0m\u001b[0m\n\u001b[0m",
      "\u001b[0;31mTypeError\u001b[0m: 'StructType' object is not callable"
     ]
    }
   ],
   "source": [
    "tabella.schema()"
   ]
  },
  {
   "cell_type": "code",
   "execution_count": 14,
   "metadata": {},
   "outputs": [
    {
     "name": "stdout",
     "output_type": "stream",
     "text": [
      "root\n",
      " |-- time: string (nullable = true)\n",
      " |-- department: string (nullable = true)\n",
      " |-- items_sold: string (nullable = true)\n",
      "\n"
     ]
    }
   ],
   "source": [
    "tabella.printSchema()"
   ]
  },
  {
   "cell_type": "code",
   "execution_count": 15,
   "metadata": {},
   "outputs": [],
   "source": [
    "#creo una nuova variabile in cui convertire i valori nel tipo giusto del file csv.\n",
    "#to_date: \n",
    "import pyspark.sql.functions as f\n",
    "tabella2 = tabella.withColumn(\"time\", f.to_date(\"time\", \"yyyy/MM/dd\")) \\\n",
    "    .withColumn(\"items_sold\", f.col(\"items_sold\").cast(\"integer\"))\n"
   ]
  },
  {
   "cell_type": "code",
   "execution_count": 16,
   "metadata": {},
   "outputs": [
    {
     "name": "stdout",
     "output_type": "stream",
     "text": [
      "root\n",
      " |-- time: date (nullable = true)\n",
      " |-- department: string (nullable = true)\n",
      " |-- items_sold: integer (nullable = true)\n",
      "\n"
     ]
    }
   ],
   "source": [
    "tabella2.printSchema()"
   ]
  },
  {
   "cell_type": "code",
   "execution_count": 17,
   "metadata": {},
   "outputs": [
    {
     "name": "stdout",
     "output_type": "stream",
     "text": [
      "+----------+----------+----------+\n",
      "|      time|department|items_sold|\n",
      "+----------+----------+----------+\n",
      "|2116-12-04|        NU|       875|\n",
      "|2120-02-28|        SK|       231|\n",
      "|2072-05-30|        NL|       855|\n",
      "|2056-03-29|        NT|       758|\n",
      "|2112-12-19|        NT|       101|\n",
      "|2075-11-07|        NL|       682|\n",
      "|2097-01-26|        NB|       923|\n",
      "|2053-12-25|        NU|       935|\n",
      "|2087-05-01|        NL|       535|\n",
      "|2115-11-03|        QC|       768|\n",
      "|2051-11-20|        NL|       357|\n",
      "|2052-01-01|        BC|       422|\n",
      "|2040-04-18|        NL|       669|\n",
      "|2042-07-23|        NS|       523|\n",
      "|2045-08-30|        BC|       163|\n",
      "|2085-08-16|        NT|       526|\n",
      "|2058-10-26|        SK|       282|\n",
      "|2078-02-07|        NT|       475|\n",
      "|2030-01-21|        NT|       677|\n",
      "|2035-05-20|        NT|       923|\n",
      "+----------+----------+----------+\n",
      "only showing top 20 rows\n",
      "\n"
     ]
    }
   ],
   "source": [
    "tabella2.show()"
   ]
  },
  {
   "cell_type": "code",
   "execution_count": 18,
   "metadata": {},
   "outputs": [
    {
     "ename": "TypeError",
     "evalue": "filter() missing 1 required positional argument: 'condition'",
     "output_type": "error",
     "traceback": [
      "\u001b[0;31m---------------------------------------------------------------------------\u001b[0m",
      "\u001b[0;31mTypeError\u001b[0m                                 Traceback (most recent call last)",
      "\u001b[0;32m<ipython-input-18-04f8cc9a3c2e>\u001b[0m in \u001b[0;36m<module>\u001b[0;34m\u001b[0m\n\u001b[0;32m----> 1\u001b[0;31m \u001b[0mtabella\u001b[0m\u001b[0;34m.\u001b[0m\u001b[0mwhere\u001b[0m\u001b[0;34m(\u001b[0m\u001b[0;34m)\u001b[0m\u001b[0;34m\u001b[0m\u001b[0;34m\u001b[0m\u001b[0m\n\u001b[0m",
      "\u001b[0;31mTypeError\u001b[0m: filter() missing 1 required positional argument: 'condition'"
     ]
    }
   ],
   "source": [
    "tabella.where()"
   ]
  },
  {
   "cell_type": "code",
   "execution_count": 19,
   "metadata": {},
   "outputs": [
    {
     "name": "stdout",
     "output_type": "stream",
     "text": [
      "+----------+----------+----------+\n",
      "|      time|department|items_sold|\n",
      "+----------+----------+----------+\n",
      "|2106-08-10|        AB|       984|\n",
      "|2088-03-06|        AB|       440|\n",
      "|2053-11-02|        AB|       760|\n",
      "|2022-08-24|        AB|       901|\n",
      "|2119-01-27|        AB|       165|\n",
      "|2053-12-02|        AB|       935|\n",
      "|2049-08-22|        AB|       700|\n",
      "+----------+----------+----------+\n",
      "\n"
     ]
    }
   ],
   "source": [
    "tabella2.where(f.col(\"department\")==\"AB\").show()"
   ]
  },
  {
   "cell_type": "code",
   "execution_count": 20,
   "metadata": {},
   "outputs": [
    {
     "name": "stdout",
     "output_type": "stream",
     "text": [
      "+----------+----------+----------+\n",
      "|      time|department|items_sold|\n",
      "+----------+----------+----------+\n",
      "|2106-08-10|        AB|       984|\n",
      "|2088-03-06|        AB|       440|\n",
      "|2053-11-02|        AB|       760|\n",
      "|2022-08-24|        AB|       901|\n",
      "|2119-01-27|        AB|       165|\n",
      "|2053-12-02|        AB|       935|\n",
      "|2049-08-22|        AB|       700|\n",
      "+----------+----------+----------+\n",
      "\n"
     ]
    }
   ],
   "source": [
    "tabella2.where(\"department='AB'\").show()"
   ]
  },
  {
   "cell_type": "code",
   "execution_count": 21,
   "metadata": {},
   "outputs": [
    {
     "name": "stdout",
     "output_type": "stream",
     "text": [
      "+----------+----------+----------+\n",
      "|      time|department|items_sold|\n",
      "+----------+----------+----------+\n",
      "|2106-08-10|        AB|       984|\n",
      "|2053-11-02|        AB|       760|\n",
      "|2022-08-24|        AB|       901|\n",
      "|2053-12-02|        AB|       935|\n",
      "|2049-08-22|        AB|       700|\n",
      "+----------+----------+----------+\n",
      "\n"
     ]
    }
   ],
   "source": [
    "tabella2.where((f.col(\"department\")==\"AB\") & (f.col(\"items_sold\")>=500)).show()"
   ]
  },
  {
   "cell_type": "code",
   "execution_count": 22,
   "metadata": {},
   "outputs": [
    {
     "name": "stdout",
     "output_type": "stream",
     "text": [
      "+----------+\n",
      "|department|\n",
      "+----------+\n",
      "|        NS|\n",
      "|        NL|\n",
      "|        NT|\n",
      "|        QC|\n",
      "|        BC|\n",
      "|        MB|\n",
      "|        NU|\n",
      "|        SK|\n",
      "|        ON|\n",
      "|        AB|\n",
      "|        PE|\n",
      "|        YT|\n",
      "|        NB|\n",
      "+----------+\n",
      "\n"
     ]
    }
   ],
   "source": [
    "tabella2.where((f.col(\"items_sold\")>=700)).select(\"department\").distinct().show()"
   ]
  },
  {
   "cell_type": "code",
   "execution_count": 23,
   "metadata": {},
   "outputs": [],
   "source": [
    "tabella2.createOrReplaceTempView(\"sales\")"
   ]
  },
  {
   "cell_type": "code",
   "execution_count": 26,
   "metadata": {},
   "outputs": [
    {
     "name": "stdout",
     "output_type": "stream",
     "text": [
      "+----------+\n",
      "|department|\n",
      "+----------+\n",
      "|        NS|\n",
      "|        NL|\n",
      "|        NT|\n",
      "|        QC|\n",
      "|        BC|\n",
      "|        MB|\n",
      "|        NU|\n",
      "|        SK|\n",
      "|        ON|\n",
      "|        AB|\n",
      "|        PE|\n",
      "|        YT|\n",
      "|        NB|\n",
      "+----------+\n",
      "\n"
     ]
    }
   ],
   "source": [
    "query = \"\"\"\n",
    "SELECT DISTINCT(department)\n",
    "FROM sales\n",
    "WHERE items_sold >= 700\n",
    "\"\"\"\n",
    "spark.sql(query).show()"
   ]
  },
  {
   "cell_type": "code",
   "execution_count": 44,
   "metadata": {},
   "outputs": [
    {
     "name": "stdout",
     "output_type": "stream",
     "text": [
      "+----------+---------------+\n",
      "|department|sum(items_sold)|\n",
      "+----------+---------------+\n",
      "|        NL|           6750|\n",
      "|        NB|           5502|\n",
      "|        NT|           4909|\n",
      "+----------+---------------+\n",
      "\n"
     ]
    }
   ],
   "source": [
    "#Query: raggruppare per dipartimenti. I primi 3 Dipartimenti che hanno venduto di più in ordine descrente. \n",
    "query = \"\"\"\n",
    "SELECT department, SUM(items_sold)\n",
    "FROM sales\n",
    "GROUP BY department\n",
    "ORDER BY Sum(items_sold) DESC\n",
    "LIMIT(3)\n",
    "\"\"\"\n",
    "spark.sql(query).show()"
   ]
  },
  {
   "cell_type": "code",
   "execution_count": null,
   "metadata": {},
   "outputs": [],
   "source": [
    "tabella2.where((f.col(\"items_sold\")>=700)).select(\"department\").distinct().show()"
   ]
  }
 ],
 "metadata": {
  "kernelspec": {
   "display_name": "Python 3",
   "language": "python",
   "name": "python3"
  },
  "language_info": {
   "codemirror_mode": {
    "name": "ipython",
    "version": 3
   },
   "file_extension": ".py",
   "mimetype": "text/x-python",
   "name": "python",
   "nbconvert_exporter": "python",
   "pygments_lexer": "ipython3",
   "version": "3.6.9"
  }
 },
 "nbformat": 4,
 "nbformat_minor": 4
}
